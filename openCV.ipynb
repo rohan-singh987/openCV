{
 "cells": [
  {
   "cell_type": "code",
   "execution_count": 1,
   "metadata": {},
   "outputs": [],
   "source": [
    "import cv2\n",
    "import numpy as np\n",
    "import pandas as pd"
   ]
  },
  {
   "cell_type": "markdown",
   "metadata": {},
   "source": [
    "## Read an Image using OpenCV\n",
    "- cv2.imread('path', flag)\n",
    "- path of image\n",
    "- flag:\n",
    "    1. 0 for grayscale\n",
    "    2. 1 for color image\n",
    "    3. -1 for transparent background image"
   ]
  },
  {
   "cell_type": "code",
   "execution_count": 2,
   "metadata": {},
   "outputs": [
    {
     "name": "stdout",
     "output_type": "stream",
     "text": [
      "[[255 255 255 ... 255 255 255]\n",
      " [255 255 255 ... 255 255 255]\n",
      " [255 255 255 ... 255 255 255]\n",
      " ...\n",
      " [255 255 255 ... 255 255 255]\n",
      " [255 255 255 ... 255 255 255]\n",
      " [255 255 255 ... 255 255 255]]\n"
     ]
    }
   ],
   "source": [
    "img = cv2.imread('images/doremonGrayScale.jpeg', 0)\n",
    "\n",
    "print(img)"
   ]
  },
  {
   "cell_type": "code",
   "execution_count": 3,
   "metadata": {},
   "outputs": [
    {
     "data": {
      "text/plain": [
       "(266, 190)"
      ]
     },
     "execution_count": 3,
     "metadata": {},
     "output_type": "execute_result"
    }
   ],
   "source": [
    "img.shape"
   ]
  },
  {
   "cell_type": "markdown",
   "metadata": {},
   "source": [
    "## Display image with openCV\n",
    "- Read the image [cv2.imread('path', flag)]\n",
    "- Display the image [imshow('Window namd{random}', var used to read the image)]\n",
    "- Set waiting time image being on the screen [cv2.waitkey()]\n",
    "    - 0: waiting for user to press any key\n",
    "    - 1000: 1second as time is in mili second\n",
    "- Destroy all windows so it will not affect rest task [cv2.destroyAllWindows()]"
   ]
  },
  {
   "cell_type": "code",
   "execution_count": 4,
   "metadata": {},
   "outputs": [],
   "source": [
    "# Reading the image\n",
    "img = cv2.imread('images/doraemon.jpeg', 1)\n",
    "\n",
    "# Display the Image\n",
    "cv2.imshow(\"Image\", img)\n",
    "\n",
    "# Wait for user to press any key\n",
    "cv2.waitKey(0)\n",
    "\n",
    "# Destroy the window after any key is pressed\n",
    "cv2.destroyAllWindows()\n",
    "\n"
   ]
  },
  {
   "cell_type": "markdown",
   "metadata": {},
   "source": [
    "## Check image properties\n",
    "- img.dtype\n",
    "- img.ndim"
   ]
  },
  {
   "cell_type": "code",
   "execution_count": 5,
   "metadata": {},
   "outputs": [
    {
     "name": "stdout",
     "output_type": "stream",
     "text": [
      "Data type of image: uint8\n",
      "Data type of image: 3\n"
     ]
    }
   ],
   "source": [
    "img = cv2.imread('images/doraemon.jpeg',1)\n",
    "\n",
    "print(\"Data type of image: {}\".format(img.dtype))\n",
    "print(\"Data type of image: {}\".format(img.ndim))"
   ]
  },
  {
   "cell_type": "code",
   "execution_count": null,
   "metadata": {},
   "outputs": [],
   "source": []
  }
 ],
 "metadata": {
  "kernelspec": {
   "display_name": "Python 3.9.0 64-bit",
   "language": "python",
   "name": "python3"
  },
  "language_info": {
   "codemirror_mode": {
    "name": "ipython",
    "version": 3
   },
   "file_extension": ".py",
   "mimetype": "text/x-python",
   "name": "python",
   "nbconvert_exporter": "python",
   "pygments_lexer": "ipython3",
   "version": "3.9.0"
  },
  "orig_nbformat": 4,
  "vscode": {
   "interpreter": {
    "hash": "cfad1cc29869cd4a297d2569111f66e3f3b7dc7ac4aef96cee209871e4d39610"
   }
  }
 },
 "nbformat": 4,
 "nbformat_minor": 2
}
