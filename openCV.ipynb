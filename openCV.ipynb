{
 "cells": [
  {
   "cell_type": "code",
   "execution_count": 1,
   "metadata": {},
   "outputs": [],
   "source": [
    "import cv2\n",
    "import numpy as np\n",
    "import pandas as pd"
   ]
  },
  {
   "cell_type": "markdown",
   "metadata": {},
   "source": [
    "## Read an Image using OpenCV\n",
    "- cv2.imread('path', flag)\n",
    "- path of image\n",
    "- flag:\n",
    "    1. 0 for grayscale\n",
    "    2. 1 for color image\n",
    "    3. -1 for transparent background image"
   ]
  },
  {
   "cell_type": "code",
   "execution_count": 2,
   "metadata": {},
   "outputs": [
    {
     "name": "stdout",
     "output_type": "stream",
     "text": [
      "[[255 255 255 ... 255 255 255]\n",
      " [255 255 255 ... 255 255 255]\n",
      " [255 255 255 ... 255 255 255]\n",
      " ...\n",
      " [255 255 255 ... 255 255 255]\n",
      " [255 255 255 ... 255 255 255]\n",
      " [255 255 255 ... 255 255 255]]\n"
     ]
    }
   ],
   "source": [
    "img = cv2.imread('images/doremonGrayScale.jpeg', 0)\n",
    "\n",
    "print(img)"
   ]
  },
  {
   "cell_type": "code",
   "execution_count": 3,
   "metadata": {},
   "outputs": [
    {
     "data": {
      "text/plain": [
       "(266, 190)"
      ]
     },
     "execution_count": 3,
     "metadata": {},
     "output_type": "execute_result"
    }
   ],
   "source": [
    "img.shape"
   ]
  },
  {
   "cell_type": "markdown",
   "metadata": {},
   "source": [
    "## Display image with openCV\n",
    "- Read the image [cv2.imread('path', flag)]\n",
    "- Display the image [imshow('Window namd{random}', var used to read the image)]\n",
    "- Set waiting time image being on the screen [cv2.waitkey()]\n",
    "    - 0: waiting for user to press any key\n",
    "    - 1000: 1second as time is in mili second\n",
    "- Destroy all windows so it will not affect rest task [cv2.destroyAllWindows()]"
   ]
  },
  {
   "cell_type": "code",
   "execution_count": 4,
   "metadata": {},
   "outputs": [],
   "source": [
    "# Reading the image\n",
    "img = cv2.imread('images/doraemon.jpeg', 1)\n",
    "\n",
    "# Display the Image\n",
    "cv2.imshow(\"Image\", img)\n",
    "\n",
    "# Wait for user to press any key\n",
    "cv2.waitKey(0)\n",
    "\n",
    "# Destroy the window after any key is pressed\n",
    "cv2.destroyAllWindows()\n",
    "\n"
   ]
  },
  {
   "cell_type": "markdown",
   "metadata": {},
   "source": [
    "## Check image properties\n",
    "- img.dtype\n",
    "- img.ndim"
   ]
  },
  {
   "cell_type": "code",
   "execution_count": 5,
   "metadata": {},
   "outputs": [
    {
     "name": "stdout",
     "output_type": "stream",
     "text": [
      "Data type of image: uint8\n",
      "Data type of image: 3\n"
     ]
    }
   ],
   "source": [
    "img = cv2.imread('images/doraemon.jpeg',1)\n",
    "\n",
    "print(\"Data type of image: {}\".format(img.dtype))\n",
    "print(\"Data type of image: {}\".format(img.ndim))"
   ]
  },
  {
   "cell_type": "markdown",
   "metadata": {},
   "source": [
    "## Acess pixel point"
   ]
  },
  {
   "cell_type": "code",
   "execution_count": 7,
   "metadata": {},
   "outputs": [
    {
     "name": "stdout",
     "output_type": "stream",
     "text": [
      "[106 157 237]\n"
     ]
    }
   ],
   "source": [
    "print(img[130, 130])"
   ]
  },
  {
   "cell_type": "markdown",
   "metadata": {},
   "source": [
    "## Change Pixel of image"
   ]
  },
  {
   "cell_type": "code",
   "execution_count": null,
   "metadata": {},
   "outputs": [],
   "source": [
    "img[130,130] = 0"
   ]
  },
  {
   "cell_type": "markdown",
   "metadata": {},
   "source": [
    "## Modify image ROI (Region of Image)"
   ]
  },
  {
   "cell_type": "code",
   "execution_count": 8,
   "metadata": {},
   "outputs": [],
   "source": [
    "# Make copy of the original image\n",
    "Img_copy = img.copy()\n",
    "\n",
    "# Modify the ROI\n",
    "Img_copy[100:130, 100:130] = 0\n",
    "\n",
    "#Display Image\n",
    "cv2.imshow('Modify ROI', Img_copy)\n",
    "cv2.waitKey(0)\n",
    "cv2.destroyAllWindows()"
   ]
  },
  {
   "cell_type": "code",
   "execution_count": 15,
   "metadata": {},
   "outputs": [
    {
     "data": {
      "text/plain": [
       "(675, 1200, 3)"
      ]
     },
     "execution_count": 15,
     "metadata": {},
     "output_type": "execute_result"
    }
   ],
   "source": [
    "img = cv2.imread('images/Naruto.jpg', 1)\n",
    "\n",
    "img.shape"
   ]
  },
  {
   "cell_type": "markdown",
   "metadata": {},
   "source": [
    "## Change image size"
   ]
  },
  {
   "cell_type": "code",
   "execution_count": 14,
   "metadata": {},
   "outputs": [],
   "source": [
    "img = cv2.imread('images/Naruto.jpg', 1)\n",
    "\n",
    "# Resizing image to a fixed size 500*500\n",
    "# resized = cv2.resize(img, (500,500))\n",
    "\n",
    "# Resize image using percentage to protest ratio of Image\n",
    "resized = cv2.resize(img, (0,0), fx=.5, fy=.5)\n",
    "\n",
    "cv2.imshow('Resized image', resized)\n",
    "cv2.waitKey(0)\n",
    "cv2.destroyAllWindows()"
   ]
  },
  {
   "cell_type": "markdown",
   "metadata": {},
   "source": [
    "### Resize certain dimension (either height or width) and maintain the aspect ratio of other dimension"
   ]
  },
  {
   "cell_type": "code",
   "execution_count": 13,
   "metadata": {},
   "outputs": [],
   "source": [
    "img = cv2.imread('images/Naruto.jpg', 1)\n",
    "\n",
    "# Get width and height of image\n",
    "height, width, channel = img.shape\n",
    "\n",
    "# Compute ratio of new height\n",
    "ratio = 500.0/width\n",
    "\n",
    "# Get the new height\n",
    "new_height = int(height * ratio)\n",
    "\n",
    "# Resize image using percentage to protest ratio of Image\n",
    "resized = cv2.resize(img, (500,new_height))\n",
    "\n",
    "cv2.imshow('Resized image', resized)\n",
    "cv2.waitKey(0)\n",
    "cv2.destroyAllWindows()"
   ]
  },
  {
   "cell_type": "code",
   "execution_count": null,
   "metadata": {},
   "outputs": [],
   "source": []
  },
  {
   "cell_type": "code",
   "execution_count": null,
   "metadata": {},
   "outputs": [],
   "source": []
  }
 ],
 "metadata": {
  "kernelspec": {
   "display_name": "Python 3.9.0 64-bit",
   "language": "python",
   "name": "python3"
  },
  "language_info": {
   "codemirror_mode": {
    "name": "ipython",
    "version": 3
   },
   "file_extension": ".py",
   "mimetype": "text/x-python",
   "name": "python",
   "nbconvert_exporter": "python",
   "pygments_lexer": "ipython3",
   "version": "3.9.0"
  },
  "orig_nbformat": 4,
  "vscode": {
   "interpreter": {
    "hash": "cfad1cc29869cd4a297d2569111f66e3f3b7dc7ac4aef96cee209871e4d39610"
   }
  }
 },
 "nbformat": 4,
 "nbformat_minor": 2
}
